{
 "cells": [
  {
   "cell_type": "code",
   "execution_count": 16,
   "metadata": {},
   "outputs": [],
   "source": [
    "import pandas as pd"
   ]
  },
  {
   "cell_type": "code",
   "execution_count": 22,
   "metadata": {},
   "outputs": [],
   "source": [
    "from chefboost import Chefboost as chef"
   ]
  },
  {
   "cell_type": "code",
   "execution_count": 23,
   "metadata": {},
   "outputs": [],
   "source": [
    "#Importing Dataset\n",
    "df=pd.read_csv(r'C:\\Users\\user\\Downloads\\Iris.csv')"
   ]
  },
  {
   "cell_type": "code",
   "execution_count": 24,
   "metadata": {},
   "outputs": [
    {
     "data": {
      "text/html": [
       "<div>\n",
       "<style scoped>\n",
       "    .dataframe tbody tr th:only-of-type {\n",
       "        vertical-align: middle;\n",
       "    }\n",
       "\n",
       "    .dataframe tbody tr th {\n",
       "        vertical-align: top;\n",
       "    }\n",
       "\n",
       "    .dataframe thead th {\n",
       "        text-align: right;\n",
       "    }\n",
       "</style>\n",
       "<table border=\"1\" class=\"dataframe\">\n",
       "  <thead>\n",
       "    <tr style=\"text-align: right;\">\n",
       "      <th></th>\n",
       "      <th>sepal_length</th>\n",
       "      <th>sepal_width</th>\n",
       "      <th>petal_length</th>\n",
       "      <th>petal_width</th>\n",
       "      <th>species</th>\n",
       "    </tr>\n",
       "  </thead>\n",
       "  <tbody>\n",
       "    <tr>\n",
       "      <th>0</th>\n",
       "      <td>5.1</td>\n",
       "      <td>3.5</td>\n",
       "      <td>1.4</td>\n",
       "      <td>0.2</td>\n",
       "      <td>Iris-setosa</td>\n",
       "    </tr>\n",
       "    <tr>\n",
       "      <th>1</th>\n",
       "      <td>4.9</td>\n",
       "      <td>3.0</td>\n",
       "      <td>1.4</td>\n",
       "      <td>0.2</td>\n",
       "      <td>Iris-setosa</td>\n",
       "    </tr>\n",
       "    <tr>\n",
       "      <th>2</th>\n",
       "      <td>4.7</td>\n",
       "      <td>3.2</td>\n",
       "      <td>1.3</td>\n",
       "      <td>0.2</td>\n",
       "      <td>Iris-setosa</td>\n",
       "    </tr>\n",
       "    <tr>\n",
       "      <th>3</th>\n",
       "      <td>4.6</td>\n",
       "      <td>3.1</td>\n",
       "      <td>1.5</td>\n",
       "      <td>0.2</td>\n",
       "      <td>Iris-setosa</td>\n",
       "    </tr>\n",
       "    <tr>\n",
       "      <th>4</th>\n",
       "      <td>5.0</td>\n",
       "      <td>3.6</td>\n",
       "      <td>1.4</td>\n",
       "      <td>0.2</td>\n",
       "      <td>Iris-setosa</td>\n",
       "    </tr>\n",
       "  </tbody>\n",
       "</table>\n",
       "</div>"
      ],
      "text/plain": [
       "   sepal_length  sepal_width  petal_length  petal_width      species\n",
       "0           5.1          3.5           1.4          0.2  Iris-setosa\n",
       "1           4.9          3.0           1.4          0.2  Iris-setosa\n",
       "2           4.7          3.2           1.3          0.2  Iris-setosa\n",
       "3           4.6          3.1           1.5          0.2  Iris-setosa\n",
       "4           5.0          3.6           1.4          0.2  Iris-setosa"
      ]
     },
     "execution_count": 24,
     "metadata": {},
     "output_type": "execute_result"
    }
   ],
   "source": [
    "df.head()"
   ]
  },
  {
   "cell_type": "code",
   "execution_count": 33,
   "metadata": {},
   "outputs": [],
   "source": [
    "#Renaming target column as Decision\n",
    "df=df.rename(columns={\"species\":\"Decision\"})"
   ]
  },
  {
   "cell_type": "code",
   "execution_count": 34,
   "metadata": {},
   "outputs": [],
   "source": [
    "config = {'algorithm': 'C4.5'}"
   ]
  },
  {
   "cell_type": "code",
   "execution_count": 38,
   "metadata": {},
   "outputs": [
    {
     "name": "stdout",
     "output_type": "stream",
     "text": [
      "C4.5  tree is going to be built...\n",
      "Accuracy:  70.0 % on  150  instances\n",
      "finished in  0.49404358863830566  seconds\n"
     ]
    }
   ],
   "source": [
    "#Creating Model\n",
    "model=chef.fit(df.copy(),config)"
   ]
  },
  {
   "cell_type": "code",
   "execution_count": 39,
   "metadata": {},
   "outputs": [
    {
     "data": {
      "text/plain": [
       "sepal_length          <=5.4\n",
       "sepal_width            >3.3\n",
       "petal_length          <=1.9\n",
       "petal_width           <=0.6\n",
       "Decision        Iris-setosa\n",
       "Name: 0, dtype: object"
      ]
     },
     "execution_count": 39,
     "metadata": {},
     "output_type": "execute_result"
    }
   ],
   "source": [
    "df.iloc[0]"
   ]
  },
  {
   "cell_type": "code",
   "execution_count": 40,
   "metadata": {},
   "outputs": [],
   "source": [
    "#Predicting 1st value\n",
    "prediction=chef.predict(model,df.iloc[0])"
   ]
  },
  {
   "cell_type": "code",
   "execution_count": 41,
   "metadata": {},
   "outputs": [
    {
     "data": {
      "text/plain": [
       "'Iris-setosa'"
      ]
     },
     "execution_count": 41,
     "metadata": {},
     "output_type": "execute_result"
    }
   ],
   "source": [
    "prediction"
   ]
  },
  {
   "cell_type": "code",
   "execution_count": 43,
   "metadata": {},
   "outputs": [
    {
     "name": "stdout",
     "output_type": "stream",
     "text": [
      "Iris-setosa  -  Iris-setosa\n",
      "Iris-setosa  -  Iris-setosa\n",
      "Iris-setosa  -  Iris-setosa\n",
      "Iris-setosa  -  Iris-setosa\n",
      "Iris-setosa  -  Iris-setosa\n",
      "Iris-setosa  -  Iris-setosa\n",
      "Iris-setosa  -  Iris-setosa\n",
      "Iris-setosa  -  Iris-setosa\n",
      "Iris-setosa  -  Iris-setosa\n",
      "Iris-setosa  -  Iris-setosa\n",
      "Iris-setosa  -  Iris-setosa\n",
      "Iris-setosa  -  Iris-setosa\n",
      "Iris-setosa  -  Iris-setosa\n",
      "Iris-setosa  -  Iris-setosa\n",
      "Iris-setosa  -  Iris-setosa\n",
      "Iris-setosa  -  Iris-setosa\n",
      "Iris-setosa  -  Iris-setosa\n",
      "Iris-setosa  -  Iris-setosa\n",
      "Iris-setosa  -  Iris-setosa\n",
      "Iris-setosa  -  Iris-setosa\n",
      "Iris-setosa  -  Iris-setosa\n",
      "Iris-setosa  -  Iris-setosa\n",
      "Iris-setosa  -  Iris-setosa\n",
      "Iris-setosa  -  Iris-setosa\n",
      "Iris-setosa  -  Iris-setosa\n",
      "Iris-setosa  -  Iris-setosa\n",
      "Iris-setosa  -  Iris-setosa\n",
      "Iris-setosa  -  Iris-setosa\n",
      "Iris-setosa  -  Iris-setosa\n",
      "Iris-setosa  -  Iris-setosa\n",
      "Iris-setosa  -  Iris-setosa\n",
      "Iris-setosa  -  Iris-setosa\n",
      "Iris-setosa  -  Iris-setosa\n",
      "Iris-setosa  -  Iris-setosa\n",
      "Iris-setosa  -  Iris-setosa\n",
      "Iris-setosa  -  Iris-setosa\n",
      "Iris-setosa  -  Iris-setosa\n",
      "Iris-setosa  -  Iris-setosa\n",
      "Iris-setosa  -  Iris-setosa\n",
      "Iris-setosa  -  Iris-setosa\n",
      "Iris-setosa  -  Iris-setosa\n",
      "Iris-setosa  -  Iris-setosa\n",
      "Iris-setosa  -  Iris-setosa\n",
      "Iris-setosa  -  Iris-setosa\n",
      "Iris-setosa  -  Iris-setosa\n",
      "Iris-setosa  -  Iris-setosa\n",
      "Iris-setosa  -  Iris-setosa\n",
      "Iris-setosa  -  Iris-setosa\n",
      "Iris-setosa  -  Iris-setosa\n",
      "Iris-setosa  -  Iris-setosa\n",
      "Iris-versicolor  -  Iris-virginica\n",
      "Iris-versicolor  -  Iris-virginica\n",
      "Iris-versicolor  -  Iris-virginica\n",
      "Iris-versicolor  -  Iris-virginica\n",
      "Iris-versicolor  -  Iris-virginica\n",
      "Iris-versicolor  -  Iris-virginica\n",
      "Iris-versicolor  -  Iris-virginica\n",
      "Iris-versicolor  -  Iris-versicolor\n",
      "Iris-versicolor  -  Iris-virginica\n",
      "Iris-versicolor  -  Iris-versicolor\n",
      "Iris-versicolor  -  Iris-versicolor\n",
      "Iris-versicolor  -  Iris-virginica\n",
      "Iris-versicolor  -  Iris-virginica\n",
      "Iris-versicolor  -  Iris-virginica\n",
      "Iris-versicolor  -  Iris-virginica\n",
      "Iris-versicolor  -  Iris-virginica\n",
      "Iris-versicolor  -  Iris-virginica\n",
      "Iris-versicolor  -  Iris-virginica\n",
      "Iris-versicolor  -  Iris-virginica\n",
      "Iris-versicolor  -  Iris-virginica\n",
      "Iris-versicolor  -  Iris-virginica\n",
      "Iris-versicolor  -  Iris-virginica\n",
      "Iris-versicolor  -  Iris-virginica\n",
      "Iris-versicolor  -  Iris-virginica\n",
      "Iris-versicolor  -  Iris-virginica\n",
      "Iris-versicolor  -  Iris-virginica\n",
      "Iris-versicolor  -  Iris-virginica\n",
      "Iris-versicolor  -  Iris-virginica\n",
      "Iris-versicolor  -  Iris-virginica\n",
      "Iris-versicolor  -  Iris-virginica\n",
      "Iris-versicolor  -  Iris-virginica\n",
      "Iris-versicolor  -  Iris-virginica\n",
      "Iris-versicolor  -  Iris-virginica\n",
      "Iris-versicolor  -  Iris-virginica\n",
      "Iris-versicolor  -  Iris-versicolor\n",
      "Iris-versicolor  -  Iris-virginica\n",
      "Iris-versicolor  -  Iris-virginica\n",
      "Iris-versicolor  -  Iris-virginica\n",
      "Iris-versicolor  -  Iris-virginica\n",
      "Iris-versicolor  -  Iris-virginica\n",
      "Iris-versicolor  -  Iris-virginica\n",
      "Iris-versicolor  -  Iris-virginica\n",
      "Iris-versicolor  -  Iris-virginica\n",
      "Iris-versicolor  -  Iris-versicolor\n",
      "Iris-versicolor  -  Iris-virginica\n",
      "Iris-versicolor  -  Iris-virginica\n",
      "Iris-versicolor  -  Iris-virginica\n",
      "Iris-versicolor  -  Iris-virginica\n",
      "Iris-versicolor  -  Iris-versicolor\n",
      "Iris-versicolor  -  Iris-virginica\n",
      "Iris-virginica  -  Iris-virginica\n",
      "Iris-virginica  -  Iris-virginica\n",
      "Iris-virginica  -  Iris-virginica\n",
      "Iris-virginica  -  Iris-virginica\n",
      "Iris-virginica  -  Iris-virginica\n",
      "Iris-virginica  -  Iris-virginica\n",
      "Iris-virginica  -  Iris-versicolor\n",
      "Iris-virginica  -  Iris-virginica\n",
      "Iris-virginica  -  Iris-virginica\n",
      "Iris-virginica  -  Iris-virginica\n",
      "Iris-virginica  -  Iris-virginica\n",
      "Iris-virginica  -  Iris-virginica\n",
      "Iris-virginica  -  Iris-virginica\n",
      "Iris-virginica  -  Iris-virginica\n",
      "Iris-virginica  -  Iris-virginica\n",
      "Iris-virginica  -  Iris-virginica\n",
      "Iris-virginica  -  Iris-virginica\n",
      "Iris-virginica  -  Iris-virginica\n",
      "Iris-virginica  -  Iris-virginica\n",
      "Iris-virginica  -  Iris-virginica\n",
      "Iris-virginica  -  Iris-virginica\n",
      "Iris-virginica  -  Iris-virginica\n",
      "Iris-virginica  -  Iris-virginica\n",
      "Iris-virginica  -  Iris-virginica\n",
      "Iris-virginica  -  Iris-virginica\n",
      "Iris-virginica  -  Iris-virginica\n",
      "Iris-virginica  -  Iris-virginica\n",
      "Iris-virginica  -  Iris-virginica\n",
      "Iris-virginica  -  Iris-virginica\n",
      "Iris-virginica  -  Iris-virginica\n",
      "Iris-virginica  -  Iris-virginica\n",
      "Iris-virginica  -  Iris-virginica\n",
      "Iris-virginica  -  Iris-virginica\n",
      "Iris-virginica  -  Iris-virginica\n",
      "Iris-virginica  -  Iris-virginica\n",
      "Iris-virginica  -  Iris-virginica\n",
      "Iris-virginica  -  Iris-virginica\n",
      "Iris-virginica  -  Iris-virginica\n",
      "Iris-virginica  -  Iris-virginica\n",
      "Iris-virginica  -  Iris-virginica\n",
      "Iris-virginica  -  Iris-virginica\n",
      "Iris-virginica  -  Iris-virginica\n",
      "Iris-virginica  -  Iris-virginica\n",
      "Iris-virginica  -  Iris-virginica\n",
      "Iris-virginica  -  Iris-virginica\n",
      "Iris-virginica  -  Iris-virginica\n",
      "Iris-virginica  -  Iris-virginica\n",
      "Iris-virginica  -  Iris-virginica\n",
      "Iris-virginica  -  Iris-virginica\n",
      "Iris-virginica  -  Iris-virginica\n"
     ]
    }
   ],
   "source": [
    "#Predicting all values\n",
    "correct=0\n",
    "wrong=0\n",
    "for index,instance in df.iterrows():\n",
    "    prediction=chef.predict(model,instance)\n",
    "    actual=instance['Decision']\n",
    "    if(actual==prediction):\n",
    "        correct+=1\n",
    "    else:\n",
    "        wrong+=1\n",
    "    print(actual,\" - \",prediction)"
   ]
  },
  {
   "cell_type": "code",
   "execution_count": 44,
   "metadata": {},
   "outputs": [
    {
     "data": {
      "text/plain": [
       "105"
      ]
     },
     "execution_count": 44,
     "metadata": {},
     "output_type": "execute_result"
    }
   ],
   "source": [
    "correct"
   ]
  },
  {
   "cell_type": "code",
   "execution_count": 45,
   "metadata": {},
   "outputs": [
    {
     "data": {
      "text/plain": [
       "45"
      ]
     },
     "execution_count": 45,
     "metadata": {},
     "output_type": "execute_result"
    }
   ],
   "source": [
    "wrong"
   ]
  },
  {
   "cell_type": "code",
   "execution_count": null,
   "metadata": {},
   "outputs": [],
   "source": []
  }
 ],
 "metadata": {
  "kernelspec": {
   "display_name": "Python 3",
   "language": "python",
   "name": "python3"
  },
  "language_info": {
   "codemirror_mode": {
    "name": "ipython",
    "version": 3
   },
   "file_extension": ".py",
   "mimetype": "text/x-python",
   "name": "python",
   "nbconvert_exporter": "python",
   "pygments_lexer": "ipython3",
   "version": "3.7.6"
  }
 },
 "nbformat": 4,
 "nbformat_minor": 4
}
